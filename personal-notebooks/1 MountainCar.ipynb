{
 "cells": [
  {
   "cell_type": "markdown",
   "id": "6e55c2b0-2544-4830-bb05-d3ed04118beb",
   "metadata": {},
   "source": [
    "For this introduction to OpenAI Gym, I am following [this](https://blog.paperspace.com/getting-started-with-openai-gym/) article"
   ]
  },
  {
   "cell_type": "markdown",
   "id": "e905a0da-1016-44f0-a309-2aacfa5f5fc1",
   "metadata": {},
   "source": [
    " 1. MountainCar"
   ]
  },
  {
   "cell_type": "code",
   "execution_count": 2,
   "id": "81c4a9c5-cf86-471a-af5b-6d88ec4a1589",
   "metadata": {},
   "outputs": [],
   "source": [
    "import gym\n",
    "import matplotlib.pyplot as plt\n",
    "import time"
   ]
  },
  {
   "cell_type": "code",
   "execution_count": 5,
   "id": "08aca64e-e14d-4b6e-b60e-d05e5af492c6",
   "metadata": {},
   "outputs": [],
   "source": [
    "env = gym.make('MountainCar-v0')"
   ]
  },
  {
   "cell_type": "code",
   "execution_count": 6,
   "id": "cbd3e565-893a-42c3-addd-1d198ce25cc1",
   "metadata": {},
   "outputs": [
    {
     "name": "stdout",
     "output_type": "stream",
     "text": [
      "obs_space = Box([-1.2  -0.07], [0.6  0.07], (2,), float32)\n",
      "action_space = Discrete(3)\n"
     ]
    }
   ],
   "source": [
    "obs_space = env.observation_space\n",
    "action_space = env.action_space\n",
    "\n",
    "print(f'{obs_space = }')\n",
    "print(f'{action_space = }')"
   ]
  },
  {
   "cell_type": "code",
   "execution_count": 7,
   "id": "4ba98d97-4f6f-4074-bd5b-983a24039277",
   "metadata": {},
   "outputs": [
    {
     "name": "stdout",
     "output_type": "stream",
     "text": [
      "The new observation is [-0.5654136  -0.00069236]\n"
     ]
    }
   ],
   "source": [
    "# reset the env\n",
    "env.reset()\n",
    "\n",
    "# sample a random action\n",
    "action = action_space.sample()\n",
    "\n",
    "# make a step\n",
    "new_obs, reward, done, info = env.step(action)\n",
    "\n",
    "\n",
    "print(f'The new observation is {new_obs}')"
   ]
  },
  {
   "cell_type": "code",
   "execution_count": 9,
   "id": "e8229814-e25d-4c4e-bffe-17767ffd26a7",
   "metadata": {},
   "outputs": [
    {
     "data": {
      "text/plain": [
       "True"
      ]
     },
     "execution_count": 9,
     "metadata": {},
     "output_type": "execute_result"
    }
   ],
   "source": [
    "env.render(mode='human')"
   ]
  },
  {
   "cell_type": "code",
   "execution_count": 10,
   "id": "6caddaf5-720a-4f1e-a59d-7bdaf472d9d0",
   "metadata": {},
   "outputs": [],
   "source": [
    "env.close()"
   ]
  },
  {
   "cell_type": "code",
   "execution_count": 12,
   "id": "d5b9aeff-85b8-49df-8ca7-7d28874074b6",
   "metadata": {},
   "outputs": [
    {
     "data": {
      "image/png": "[encoded data removed]",
      "text/plain": [
       "<Figure size 640x480 with 1 Axes>"
      ]
     },
     "metadata": {},
     "output_type": "display_data"
    }
   ],
   "source": [
    "# use matplotlib instead\n",
    "env_screen = env.render(mode = 'rgb_array')\n",
    "env.close()\n",
    "\n",
    "plt.imshow(env_screen);"
   ]
  },
  {
   "cell_type": "code",
   "execution_count": 13,
   "id": "34f89bbc-dc8a-43a6-a4aa-0c7d050106b8",
   "metadata": {},
   "outputs": [],
   "source": [
    "# putting everything into one code cell\n",
    "num_steps = 1500\n",
    "\n",
    "env.reset()\n",
    "for i in range(num_steps):\n",
    "    # sample a random action\n",
    "    action = action_space.sample()\n",
    "\n",
    "    # make a step\n",
    "    new_obs, reward, done, info = env.step(action)\n",
    "    env.render()\n",
    "    \n",
    "    # wait a bit, so video is slower\n",
    "    time.sleep(0.001)\n",
    "    \n",
    "    # reset if done\n",
    "    if done:\n",
    "        env.reset()\n",
    "        \n",
    "# close rendering window\n",
    "env.close()"
   ]
  },
  {
   "cell_type": "markdown",
   "id": "0fd1205a-68d6-49b8-ab19-f8be8579f97a",
   "metadata": {},
   "source": [
    "-----------------------"
   ]
  },
  {
   "cell_type": "code",
   "execution_count": 14,
   "id": "6f2551f1-293b-4562-af77-d976bd155b8a",
   "metadata": {},
   "outputs": [
    {
     "data": {
      "text/plain": [
       "gym.spaces.box.Box"
      ]
     },
     "execution_count": 14,
     "metadata": {},
     "output_type": "execute_result"
    }
   ],
   "source": [
    "type(obs_space)"
   ]
  },
  {
   "cell_type": "code",
   "execution_count": 15,
   "id": "6a7ae551-4989-4351-8982-d9294159a3de",
   "metadata": {},
   "outputs": [
    {
     "data": {
      "text/plain": [
       "array([0.6 , 0.07], dtype=float32)"
      ]
     },
     "execution_count": 15,
     "metadata": {},
     "output_type": "execute_result"
    }
   ],
   "source": [
    "# observe upper and lower bounds\n",
    "obs_space.high"
   ]
  },
  {
   "cell_type": "code",
   "execution_count": 16,
   "id": "c5c94673-bccc-47a9-ad96-ab8da1802425",
   "metadata": {},
   "outputs": [
    {
     "data": {
      "text/plain": [
       "array([-1.2 , -0.07], dtype=float32)"
      ]
     },
     "execution_count": 16,
     "metadata": {},
     "output_type": "execute_result"
    }
   ],
   "source": [
    "obs_space.low"
   ]
  },
  {
   "cell_type": "code",
   "execution_count": 22,
   "id": "cc46d7bd-f5c4-4070-8175-043f8cb4a5c4",
   "metadata": {},
   "outputs": [
    {
     "name": "stdout",
     "output_type": "stream",
     "text": [
      "2 works\n",
      "4 is an Invalid action value\n"
     ]
    }
   ],
   "source": [
    "# trying an invalid action value\n",
    "env.step(2)\n",
    "print('2 works')\n",
    "\n",
    "try:\n",
    "    env.step(4)\n",
    "except:\n",
    "    print('4 is an Invalid action value')"
   ]
  }
 ],
 "metadata": {
  "kernelspec": {
   "display_name": "Python 3 (ipykernel)",
   "language": "python",
   "name": "python3"
  },
  "language_info": {
   "codemirror_mode": {
    "name": "ipython",
    "version": 3
   },
   "file_extension": ".py",
   "mimetype": "text/x-python",
   "name": "python",
   "nbconvert_exporter": "python",
   "pygments_lexer": "ipython3",
   "version": "3.9.13"
  }
 },
 "nbformat": 4,
 "nbformat_minor": 5
}
